{
 "cells": [
  {
   "cell_type": "code",
   "execution_count": null,
   "id": "f85c12ac-b6e5-418c-86cc-e9103b1a735d",
   "metadata": {},
   "outputs": [],
   "source": [
    "import os\n",
    "os.environ['TF_CPP_MIN_LOG_LEVEL'] = '3' \n",
    "from tensorflow.keras.layers import *\n",
    "from tensorflow.keras.models import *\n",
    "from tensorflow.keras import layers\n",
    "import tensorflow as tf\n",
    "IMAGE_ORDERING = 'channels_last'\n",
    "tf.executing_eagerly()\n",
    "BATCH_SIZE=128"
   ]
  },
  {
   "cell_type": "code",
   "execution_count": null,
   "id": "ea6018bb-8a38-4b80-b02c-a261c3b2fbbf",
   "metadata": {},
   "outputs": [],
   "source": [
    "#load data\n",
    "import numpy as np\n",
    "Xdata=np.load(\"Trainingdata.npy\")\n",
    "# mindata=Xdata.min(axis=(0,1,2))\n",
    "# maxdata=Xdata.max(axis=(0,1,2))\n",
    "# Xdata=(Xdata-mindata)/(maxdata-mindata)\n",
    "Ydata=np.load(\"traininglabel.npy\")[:,:,:,2:]\n",
    "# Y_area=np.load(\"labels_area_density.npy\")\n",
    "#normalizer.adapt(Xdata)\n",
    "#Ydata=np.expand_dims(np.argmax(Y_sus,axis=-1),axis=-1)\n",
    "mindata=Xdata.min(axis=(0,1,2))\n",
    "maxdata=Xdata.max(axis=(0,1,2))\n",
    "Xdata=(Xdata-mindata)/(maxdata-mindata)"
   ]
  },
  {
   "cell_type": "code",
   "execution_count": null,
   "id": "f933c150-1dfa-4285-ad1c-d07e115148e0",
   "metadata": {},
   "outputs": [],
   "source": [
    "Ydata.shape\n",
    "Xdata=Xdata.reshape((170880,32,32,13))\n",
    "Ydata=Ydata.reshape((170880,1))"
   ]
  },
  {
   "cell_type": "markdown",
   "id": "efefffd8-a2b0-4ced-a690-9a15843c0507",
   "metadata": {},
   "source": [
    "#load data\n",
    "import numpy as np\n",
    "Xdata=np.load(\"Covariates_full.npy\")\n",
    "Y_sus=np.load(\"labels_susceptibility.npy\")\n",
    "Y_area=np.load(\"labels_area_density.npy\")\n",
    "#normalizer.adapt(Xdata)\n",
    "Ydata=Y_area#np.expand_dims(np.argmax(Y_sus,axis=-1),axis=-1)"
   ]
  },
  {
   "cell_type": "code",
   "execution_count": null,
   "id": "5cbb6145-9996-40d9-aece-9f0afd2d87f2",
   "metadata": {},
   "outputs": [],
   "source": [
    "idx=np.where(Ydata>0)[0]\n",
    "Ydata=Ydata[idx]\n",
    "Xdata=Xdata[idx]\n",
    "Ydata.shape,Xdata.shape"
   ]
  },
  {
   "cell_type": "code",
   "execution_count": null,
   "id": "40a605b5-f72a-4ca7-85a1-e22a365199a0",
   "metadata": {},
   "outputs": [],
   "source": [
    "def get_regression(n_classes=1,input_height=32,  input_width=32, channels=13):\n",
    "\n",
    "    assert input_height % 32 == 0\n",
    "    assert input_width % 32 == 0\n",
    "    \n",
    "    if IMAGE_ORDERING == 'channels_first':\n",
    "        img_input = Input(shape=(channels, input_height, input_width))\n",
    "    elif IMAGE_ORDERING == 'channels_last':\n",
    "        img_input = Input(shape=(input_height, input_width, channels))\n",
    "\n",
    "    if IMAGE_ORDERING == 'channels_last':\n",
    "        bn_axis = 3\n",
    "    else:\n",
    "        bn_axis = 1\n",
    "    if IMAGE_ORDERING == 'channels_first':\n",
    "        MERGE_AXIS = 1\n",
    "    elif IMAGE_ORDERING == 'channels_last':\n",
    "        MERGE_AXIS = -1\n",
    "        \n",
    "    x = ZeroPadding2D((3, 3), data_format=IMAGE_ORDERING)(img_input)\n",
    "    x = Conv2D(64, (4, 4), data_format=IMAGE_ORDERING,\n",
    "               strides=(2, 2), name='conv1')(x)\n",
    "    x = BatchNormalization(axis=bn_axis, name='bn_conv1')(x)\n",
    "    x = Activation('relu')(x)\n",
    "    x = MaxPooling2D((3, 3), data_format=IMAGE_ORDERING, strides=(2, 2))(x)\n",
    "    x = Dense(128, activation='relu')(x)\n",
    "    x = BatchNormalization(axis=bn_axis, name='bn_dense1')(x)\n",
    "    x = MaxPooling2D((3, 3), data_format=IMAGE_ORDERING, strides=(2, 2))(x)\n",
    "    x=  Flatten()(x)\n",
    "    x = Dense(512, activation='relu')(x)\n",
    "    x = Dense(128, activation='relu')(x)\n",
    "    x = Dense(32, activation='relu')(x)\n",
    "    o1 = Dense(1, activation='relu')(x)\n",
    "    model = Model(inputs=[img_input], outputs=[o1])\n",
    "    return model"
   ]
  },
  {
   "cell_type": "code",
   "execution_count": null,
   "id": "832da354-b875-4a66-8afa-4206d3990f72",
   "metadata": {},
   "outputs": [],
   "source": [
    "model=get_regression()"
   ]
  },
  {
   "cell_type": "code",
   "execution_count": null,
   "id": "d2693bb8-175b-407d-aa0c-dfc760c72689",
   "metadata": {
    "tags": []
   },
   "outputs": [],
   "source": [
    "model.load_weights(\"models_checkpoint_regression_V2.5\")\n",
    "model.summary()"
   ]
  },
  {
   "cell_type": "code",
   "execution_count": null,
   "id": "fa3f9623-6cfa-4da1-bdcc-a6b76b8595d4",
   "metadata": {},
   "outputs": [],
   "source": [
    "import tensorflow as tf\n",
    "from tensorflow.keras.optimizers import Adam\n",
    "lr_schedule = tf.keras.optimizers.schedules.ExponentialDecay(initial_learning_rate=1e-3,decay_steps=20000,decay_rate=0.9)\n",
    "import keras.backend as K\n",
    "opt = Adam(learning_rate=1e-4)\n",
    "def regressionloss(y_true, y_pred):\n",
    "    y_true_flat=K.flatten(y_true)\n",
    "    y_pred_flat=K.flatten(y_pred)\n",
    "    mask=tf.where(y_pred_flat==0.,False,True)\n",
    "    count_nonzero=tf.reduce_sum(tf.cast(mask, tf.float32))\n",
    "    return tf.math.divide_no_nan(tf.reduce_sum(tf.math.square(tf.math.subtract(y_true_flat,y_pred_flat))),count_nonzero)\n",
    "\n",
    "model.compile(optimizer=opt, \n",
    "              loss=tf.keras.losses.MeanAbsoluteError(), \n",
    "              metrics=tf.keras.metrics.RootMeanSquaredError())"
   ]
  },
  {
   "cell_type": "code",
   "execution_count": null,
   "id": "575f3c50-e2a0-43e7-81f0-8ed3f3855247",
   "metadata": {},
   "outputs": [],
   "source": [
    "NUMBER_EPOCHS = 500\n",
    "filepath=\"models_checkpoint_regression_V2.3\"\n",
    "model_checkpoint_callback=tf.keras.callbacks.ModelCheckpoint(\n",
    "    filepath,\n",
    "    monitor=\"val_loss\",\n",
    "    verbose=0,\n",
    "    save_best_only=True,\n",
    "    save_weights_only=False,\n",
    "    mode=\"min\",\n",
    "    save_freq=\"epoch\",\n",
    "    options=None\n",
    ")\n",
    "import os,datetime\n",
    "logdir = os.path.join(\"logs_regression\",\"Type_2_v3\"+ datetime.datetime.now().strftime(\"%Y%m%d-%H%M%S\"))\n",
    "tensorboard_callback = tf.keras.callbacks.TensorBoard(logdir, histogram_freq=1)\n",
    "\n",
    "\n",
    "def train(model, xdata,ydata):\n",
    "    hist = model.fit(x=xdata,\n",
    "                     y=ydata,\n",
    "                     epochs=NUMBER_EPOCHS,\n",
    "                     validation_split=0.3, \n",
    "                     batch_size=BATCH_SIZE,#auto validate using 30% of random samples at each epoch\n",
    "                     verbose=1, callbacks=[model_checkpoint_callback,tensorboard_callback]\n",
    "                    )\n",
    "    return hist"
   ]
  },
  {
   "cell_type": "code",
   "execution_count": null,
   "id": "abdbcb58-c7e6-4505-a671-d03dff1f9486",
   "metadata": {
    "tags": []
   },
   "outputs": [],
   "source": [
    "history=train(model,Xdata,Ydata)"
   ]
  },
  {
   "cell_type": "code",
   "execution_count": null,
   "id": "7b58f21a-3e6e-4d56-a511-558005329481",
   "metadata": {},
   "outputs": [],
   "source": [
    "Ydata_predicted=model.predict(Xdata)"
   ]
  },
  {
   "cell_type": "code",
   "execution_count": null,
   "id": "9bdb5752-4ee3-49c5-8f57-b9842828652f",
   "metadata": {},
   "outputs": [],
   "source": [
    "import seaborn as sns; sns.set_theme(color_codes=True)\n",
    "import scipy as sp\n",
    "import matplotlib.pyplot as plt\n",
    "sns.set(rc={'figure.figsize':(5,5)})\n",
    "ax = sns.regplot(x=Ydata, y=Ydata_predicted,fit_reg=False)\n",
    "\n",
    "r, p = sp.stats.pearsonr(Ydata.flatten(), Ydata_predicted.flatten())\n",
    "ax.text(.05, .8, 'r={:.2f}'.format(r),\n",
    "        transform=ax.transAxes)\n",
    "xx=np.arange(0,60)\n",
    "yy=np.arange(0,60)\n",
    "sns.lineplot( x=xx, y=yy, color='r', ax=ax)\n",
    "ax.set(xlabel='Observed',ylabel='Predicted',title='Obs vs Pred Area Density' )\n",
    "ax.set_xlim((0,60))\n",
    "ax.set_ylim((0,60))"
   ]
  },
  {
   "cell_type": "code",
   "execution_count": null,
   "id": "e3af0b38-7044-46e4-a211-d0917964aeed",
   "metadata": {},
   "outputs": [],
   "source": [
    "ax.get_figure().savefig(\"regression_dat_v3.png\",dpi=500) "
   ]
  },
  {
   "cell_type": "code",
   "execution_count": null,
   "id": "73dab8ae-c58c-4431-a5f4-3f7bd9f37b0e",
   "metadata": {
    "collapsed": true,
    "jupyter": {
     "outputs_hidden": true
    },
    "tags": []
   },
   "outputs": [],
   "source": [
    "import seaborn as sns\n",
    "def plot_hist(data):\n",
    "    sns.kdeplot(\n",
    "   data=data, \n",
    "   fill=True, common_norm=False, palette=\"crest\",\n",
    "   alpha=.5, linewidth=0,\n",
    ")"
   ]
  }
 ],
 "metadata": {
  "kernelspec": {
   "display_name": "Python",
   "language": "python",
   "name": "python3"
  },
  "language_info": {
   "codemirror_mode": {
    "name": "ipython",
    "version": 3
   },
   "file_extension": ".py",
   "mimetype": "text/x-python",
   "name": "python",
   "nbconvert_exporter": "python",
   "pygments_lexer": "ipython3",
   "version": "3.8.10"
  }
 },
 "nbformat": 4,
 "nbformat_minor": 5
}
